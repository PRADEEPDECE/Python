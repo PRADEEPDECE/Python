{
 "cells": [
  {
   "cell_type": "markdown",
   "id": "fadce622",
   "metadata": {},
   "source": [
    "___\n",
    "\n",
    "<img src='../Beat logo.png'/></a>\n",
    "___\n",
    "<center><em>Content Copyright by Beat</em></center>"
   ]
  },
  {
   "cell_type": "markdown",
   "id": "fee00662",
   "metadata": {},
   "source": [
    "# Match Statements"
   ]
  },
  {
   "cell_type": "markdown",
   "id": "e8d3464f",
   "metadata": {},
   "source": [
    "Python is under constant development and it didn’t have a match statement till python < 3.10. Python match statements were introduced in python 3.10 and it is providing a great user experience, good readability, and cleanliness in the code which was not the case with clumsy Python if elif else ladder statements. \n",
    "\n",
    "What is a ‘match-case’ statement?\n",
    "For developers coming from languages like C/C++ or Java know that there was a conditional statement known as Switch Case. This Match-Case is the Switch Case of Python which was introduced in Python 3.10. Here we have to first pass a parameter then try to check with which case the parameter is getting satisfied. If we find a match we will do something and if there is no match at all we will do something else."
   ]
  },
  {
   "cell_type": "markdown",
   "id": "d2f71e95",
   "metadata": {},
   "source": [
    "## Syntex"
   ]
  },
  {
   "cell_type": "markdown",
   "id": "90ff23ba",
   "metadata": {},
   "source": [
    "parameter = \"Python3\"\n",
    "\n",
    "match parameter:\n",
    "\n",
    "\tcase first :\n",
    "\t\tdo_something(first)\n",
    "\t\n",
    "\tcase second :\n",
    "\t\tdo_something(second)\n",
    "\t\t\n",
    "\tcase third :\n",
    "\t\tdo_something(third)\n",
    "\t\t.............\n",
    "\t\t............\n",
    "\tcase n :\n",
    "\t\tdo_something(n)\n",
    "\tcase _ :\n",
    "\t\tnothing_matched_function()\n",
    "\t\t\n"
   ]
  },
  {
   "cell_type": "code",
   "execution_count": 2,
   "id": "00f2d3a3",
   "metadata": {},
   "outputs": [
    {
     "name": "stdout",
     "output_type": "stream",
     "text": [
      "Write your username -: Rishabh\n",
      "Rishabh have the access to the database\n",
      "{'username': 'Rishabh', 'password': 'admin'}\n",
      "Write your username -: pradeep\n",
      "You do not have any access to the code\n",
      "Write your username -: \n",
      "You do not have any access to the code\n"
     ]
    }
   ],
   "source": [
    "def provideAccess(user):\n",
    "\treturn {\n",
    "\t\t\"username\": user,\n",
    "\t\t\"password\": \"admin\"\n",
    "\t}\n",
    "\n",
    "\n",
    "def runMatch():\n",
    "\tuser = str(input(\"Write your username -: \"))\n",
    "\n",
    "\t# match statement starts here .\n",
    "\tmatch user:\n",
    "\t\tcase \"Om\":\n",
    "\t\t\tprint(\"Om do not have access to the database \\\n",
    "\t\t\tonly for the api code.\")\n",
    "\t\tcase \"Vishal\":\n",
    "\t\t\tprint(\n",
    "\t\t\t\t\"Vishal do not have access to the database , \\\n",
    "\t\t\t\tonly for the frontend code.\")\n",
    "\n",
    "\t\tcase \"Rishabh\":\n",
    "\t\t\tprint(\"Rishabh have the access to the database\")\n",
    "\t\t\tprint(provideAccess(\"Rishabh\"))\n",
    "\n",
    "\t\tcase _:\n",
    "\t\t\tprint(\"You do not have any access to the code\")\n",
    "\n",
    "\n",
    "if __name__ == \"__main__\":\n",
    "\tfor _ in range(3):\n",
    "\t\trunMatch()\n"
   ]
  },
  {
   "cell_type": "markdown",
   "id": "f8b4220a",
   "metadata": {},
   "source": [
    "With OR Statement"
   ]
  },
  {
   "cell_type": "code",
   "execution_count": null,
   "id": "3c9062db",
   "metadata": {},
   "outputs": [],
   "source": [
    "def provideAccess(user) :\n",
    "\treturn {\n",
    "\t\t\"username\" : user ,\n",
    "\t\t\"password\" : \"admin\"\n",
    "\t}\n",
    "\n",
    "\t\n",
    "def runMatch() :\n",
    "\tuser = str(input(\"Write your username -: \"))\n",
    "\n",
    "\t# match statement\n",
    "\tmatch user :\n",
    "\t\tcase \"Om\" | \"Vishal\" :\n",
    "\t\t\tprint(\"You are not allowed to access the database !\")\n",
    "\t\t\n",
    "\t\tcase \"Rishabh\" :\n",
    "\t\t\tprint(\"You are allowed to access the database !\")\n",
    "\t\t\tdata = provideAccess(\"Rishabh\")\n",
    "\t\t\tprint(data)\n",
    "\t\tcase _ :\n",
    "\t\t\tprint(\"You are not a company memeber , you are not \\\n",
    "\t\t\tallowed to access the code !\")\n",
    "\n",
    "if __name__ == \"__main__\" :\n",
    "\tfor _ in range(2) :\n",
    "\t\trunMatch()\n"
   ]
  },
  {
   "cell_type": "markdown",
   "id": "f1619e01",
   "metadata": {},
   "source": [
    "With IF Statement"
   ]
  },
  {
   "cell_type": "code",
   "execution_count": null,
   "id": "2cb2c42c",
   "metadata": {},
   "outputs": [],
   "source": [
    "def provideAccess(user):\n",
    "\treturn {\n",
    "\t\t\"username\": user,\n",
    "\t\t\"password\": \"admin\"\n",
    "\t}\n",
    "\n",
    "def runMatch():\n",
    "\tuser = str(input(\"Write your username -: \"))\n",
    "\tallowedDataBaseUsers = [\"Rishabh\"]\n",
    "\tmatch user:\n",
    "\t\tcase \"Rishabh\" if user in allowedDataBaseUsers:\n",
    "\t\t\tprint(\"You are allowed to access the database !\")\n",
    "\t\t\tdata = provideAccess(\"Rishabh\")\n",
    "\t\t\tprint(data)\n",
    "\t\tcase _:\n",
    "\t\t\tprint(\"You are not a company memeber , \\\n",
    "\t\t\tyou are not allowed to access the code !\")\n",
    "\n",
    "\n",
    "if __name__ == \"__main__\":\n",
    "\tfor _ in range(2):\n",
    "\t\trunMatch()\n"
   ]
  },
  {
   "cell_type": "markdown",
   "id": "d603378f",
   "metadata": {},
   "source": [
    "Match the Sequence Pattern"
   ]
  },
  {
   "cell_type": "code",
   "execution_count": null,
   "id": "c0cfe053",
   "metadata": {},
   "outputs": [],
   "source": [
    "def runMatch(data_input):\n",
    "\tmatch data_input:\n",
    "\t\tcase[\"a\"]:\n",
    "\t\t\tprint(\"The list only contains a and is just a single list\")\n",
    "\n",
    "\t\tcase[\"a\", *other_items]:\n",
    "\t\t\tprint(f\"The 'a' is the first element\\\n",
    "\t\t\tand {other_items} are the rest of the elements !\")\n",
    "\n",
    "\t\tcase[*first_items, \"d\"] | (*first_items, \"d\"):\n",
    "\t\t\tprint(f\"The 'd' is the last item and\\\n",
    "\t\t\t{first_items} are the previous elements before it !\")\n",
    "\n",
    "\t\tcase _:\n",
    "\t\t\tprint(\"No case matches with this one !\")\n",
    "\n",
    "\n",
    "if __name__ == \"__main__\":\n",
    "\trunMatch([\"a\"])\n",
    "\trunMatch((\"a\", \"b\"))\n",
    "\trunMatch([\"a\", \"b\", \"c\", \"d\"])\n",
    "\trunMatch([\"b\", \"c\", \"d\"])\n"
   ]
  },
  {
   "cell_type": "markdown",
   "id": "0f19834e",
   "metadata": {},
   "source": [
    "Use of Python Class in match statement"
   ]
  },
  {
   "cell_type": "code",
   "execution_count": null,
   "id": "10e4feb6",
   "metadata": {},
   "outputs": [],
   "source": [
    "from dataclasses import dataclass\n",
    "\n",
    "@dataclass\n",
    "class Person:\n",
    "\tname: str\n",
    "\tage: int\n",
    "\tsalary: int\n",
    "\n",
    "\n",
    "@dataclass\n",
    "class Programmer:\n",
    "\tname: str\n",
    "\tlanguage: str\n",
    "\tframework: str\n",
    "\n",
    "\n",
    "def runMatch(instance):\n",
    "\tmatch instance:\n",
    "\t\tcase Programmer(\"Om\", language=\"Python\",\n",
    "\t\t\t\t\t\tframework=\"Django\"):\n",
    "\t\t\tprint(\"He is Om and he is a Python programmer and \\\n",
    "\t\t\tuses Django Framework!\")\n",
    "\n",
    "\t\tcase Programmer(\"Rishabh\", \"C++\"):\n",
    "\t\t\tprint(\"He is Rishabh and is a C++ programmer !\")\n",
    "\n",
    "\t\tcase Person(\"Vishal\", age=5, salary=100):\n",
    "\t\t\tprint(\"He is vishal and he is a kid !\")\n",
    "\n",
    "\t\tcase Programmer(name, language, framework):\n",
    "\t\t\tprint(f\"He is programmer , his name is {name} ,\\\n",
    "\t\t\the works in {language} and uses {framework} !\")\n",
    "\n",
    "\t\tcase Person():\n",
    "\t\t\tprint(\"He is just a person !\")\n",
    "\n",
    "\t\tcase _:\n",
    "\t\t\tprint(\"This person is nothiing !\")\n",
    "\n",
    "\n",
    "if __name__ == \"__main__\":\n",
    "\tprogrammer1 = Programmer(\"Om\", \"Python\", \"Django\")\n",
    "\tprogrammer2 = Programmer(\"Rishabh\", \"C++\", None)\n",
    "\tprogrammer3 = Programmer(\"Sankalp\", \"Javascript\", \"React\")\n",
    "\tperson1 = Person(\"Vishal\", 5, 100)\n",
    "\trunMatch(programmer1)\n",
    "\trunMatch(programmer2)\n",
    "\trunMatch(person1)\n",
    "\trunMatch(programmer3)\n"
   ]
  },
  {
   "cell_type": "markdown",
   "id": "e70632db",
   "metadata": {},
   "source": [
    "Use of Python Dictionary in match statement"
   ]
  },
  {
   "cell_type": "code",
   "execution_count": null,
   "id": "8cac018b",
   "metadata": {},
   "outputs": [],
   "source": [
    "def runMatch(dictionary):\n",
    "\tmatch dictionary:\n",
    "\t\tcase {\"name\": \"Om\"}:\n",
    "\t\t\tprint(\"This matches only for one key ,\\\n",
    "\t\t\tthat is if they key exists with the pair \\\n",
    "\t\t\tvalue then this block will be selected !\")\n",
    "\n",
    "\t\tcase {\"framework\": \"Django\", \"language\": \"Python\"}:\n",
    "\t\t\tprint(\"This one matches multiple keys and values . !\")\n",
    "\n",
    "\t\tcase {\"name\": name, \"language\": language,\n",
    "\t\t\t\"framework\": framework}:\n",
    "\t\t\tprint(f\"The person's name is {name} , \\\n",
    "\t\t\tthe language he uses is {language}\\\n",
    "\t\t\tand the framework he uses is {framework} !\")\n",
    "\n",
    "\t\tcase _:\n",
    "\t\t\tprint(\"Matches anything !\")\n",
    "\n",
    "\n",
    "if __name__ == \"__main__\":\n",
    "\ta = {\n",
    "\t\t\"name\": \"Om\",\n",
    "\t\t\"language\": \"Python\",\n",
    "\t\t\"framework\": \"Django\",\n",
    "\t}\n",
    "\trunMatch(a)\n",
    "\ta[\"name\"] = \"Rishabh\"\n",
    "\trunMatch(a)\n",
    "\ta[\"language\"] = \"C++\"\n",
    "\trunMatch(a)\n"
   ]
  }
 ],
 "metadata": {
  "kernelspec": {
   "display_name": "Python 3 (ipykernel)",
   "language": "python",
   "name": "python3"
  },
  "language_info": {
   "codemirror_mode": {
    "name": "ipython",
    "version": 3
   },
   "file_extension": ".py",
   "mimetype": "text/x-python",
   "name": "python",
   "nbconvert_exporter": "python",
   "pygments_lexer": "ipython3",
   "version": "3.10.9"
  }
 },
 "nbformat": 4,
 "nbformat_minor": 5
}
